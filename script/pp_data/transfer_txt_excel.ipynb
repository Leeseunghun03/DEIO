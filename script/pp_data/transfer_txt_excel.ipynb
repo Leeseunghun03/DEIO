{
 "cells": [
  {
   "cell_type": "markdown",
   "metadata": {},
   "source": [
    "# 将txt文件读入并以excel的形式输出保存\n",
    "1. 进行行列转置\n",
    "2. 以&分隔\n",
    "3. conda环境为DEIO2\n",
    "\n",
    "```bash\n",
    "pip install ipykernel \n",
    "pip install pandas\n",
    "pip install openpyxl\n",
    "```"
   ]
  },
  {
   "cell_type": "code",
   "execution_count": 1,
   "metadata": {},
   "outputs": [
    {
     "name": "stdout",
     "output_type": "stream",
     "text": [
      "Successfully imported modules\n"
     ]
    }
   ],
   "source": [
    "import pandas as pd\n",
    "\n",
    "print(\"Successfully imported modules\")"
   ]
  },
  {
   "cell_type": "code",
   "execution_count": 2,
   "metadata": {},
   "outputs": [
    {
     "name": "stdout",
     "output_type": "stream",
     "text": [
      "Successfully read data\n"
     ]
    }
   ],
   "source": [
    "# 读取文本文件并处理数据\n",
    "rows = []\n",
    "with open('/home/gwp/DEIO2/results/vector/EVO_GBA/2025-04-11/results_dict_04-11-08PM.txt', 'r') as f:\n",
    "    lines = f.readlines()\n",
    "\n",
    "i = 0 # 行索引\n",
    "while i < len(lines):\n",
    "    line = lines[i].strip()\n",
    "    if not line:\n",
    "        i += 1\n",
    "        continue\n",
    "    if line == 'Medians': # 跳过Medians行，读取下一行的中位数值\n",
    "        i += 1 # 行索引加1(直接跳过)\n",
    "        if i >= len(lines):\n",
    "            break\n",
    "        median_line = lines[i].strip()\n",
    "        elements = [e.strip() for e in median_line.split('&')]# 以&分割字符串\n",
    "        rows.append(elements)\n",
    "        i += 1\n",
    "    else:\n",
    "        elements = [e.strip() for e in line.split('&')] # 以&分割字符串\n",
    "        rows.append(elements) # 将分割后的字符串添加到列表中\n",
    "        i += 1 # 行索引加1\n",
    "\n",
    "print(\"Successfully read data\")\n",
    "# 打印数据\n",
    "# print(rows)"
   ]
  },
  {
   "cell_type": "code",
   "execution_count": 3,
   "metadata": {},
   "outputs": [
    {
     "name": "stdout",
     "output_type": "stream",
     "text": [
      "Excel文件已成功生成！\n"
     ]
    }
   ],
   "source": [
    "# 转置数据（行列转换）\n",
    "transposed = list(zip(*rows))\n",
    "\n",
    "# 创建DataFrame并保存为Excel\n",
    "df = pd.DataFrame(transposed)\n",
    "df.to_excel('/home/gwp/DEIO2/Note/vector_result.xlsx', index=False, header=False)\n",
    "\n",
    "print(\"Excel文件已成功生成！\")"
   ]
  }
 ],
 "metadata": {
  "kernelspec": {
   "display_name": "DEIO2",
   "language": "python",
   "name": "python3"
  },
  "language_info": {
   "codemirror_mode": {
    "name": "ipython",
    "version": 3
   },
   "file_extension": ".py",
   "mimetype": "text/x-python",
   "name": "python",
   "nbconvert_exporter": "python",
   "pygments_lexer": "ipython3",
   "version": "3.10.16"
  }
 },
 "nbformat": 4,
 "nbformat_minor": 2
}
