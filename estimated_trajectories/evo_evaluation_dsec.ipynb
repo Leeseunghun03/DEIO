{
 "cells": [
  {
   "cell_type": "code",
   "execution_count": 1,
   "metadata": {},
   "outputs": [
    {
     "name": "stdout",
     "output_type": "stream",
     "text": [
      "Successfully import ultils\n"
     ]
    }
   ],
   "source": [
    "import os\n",
    "import tqdm as tqdm\n",
    "import numpy as np\n",
    "import copy\n",
    "\n",
    "# 处理服务器中evo的可视化问题\n",
    "import evo\n",
    "from evo.tools.settings import SETTINGS\n",
    "SETTINGS['plot_backend'] = 'Agg'\n",
    "\n",
    "from evo.tools import file_interface, plot\n",
    "from evo.core.geometry import GeometryException\n",
    "import evo.main_ape as main_ape\n",
    "from evo.core import sync, metrics\n",
    "from evo.core.trajectory import PoseTrajectory3D\n",
    "\n",
    "import matplotlib.pyplot as plt #绘图\n",
    "\n",
    "print(\"Successfully import ultils\")"
   ]
  },
  {
   "cell_type": "code",
   "execution_count": 3,
   "metadata": {},
   "outputs": [
    {
     "name": "stdout",
     "output_type": "stream",
     "text": [
      "Successfully define several functions\n"
     ]
    }
   ],
   "source": [
    "def make_evo_traj_gt(poses_N_x_7, tss_us):\n",
    "    assert poses_N_x_7.shape[1] == 7\n",
    "    assert poses_N_x_7.shape[0] > 10\n",
    "    assert tss_us.shape[0] == poses_N_x_7.shape[0]\n",
    "\n",
    "    traj_evo = PoseTrajectory3D(\n",
    "        positions_xyz=poses_N_x_7[:,:3],\n",
    "        # orientations_quat_wxyz=poses_N_x_7[:,3:],\n",
    "        orientations_quat_wxyz = poses_N_x_7[:, [6,3,4,5]],#gt存储的是xyzw\n",
    "        timestamps=tss_us/1e6)#转换为秒\n",
    "    return traj_evo\n",
    "\n",
    "def make_evo_traj_deio(poses_N_x_7, tss_us):\n",
    "    assert poses_N_x_7.shape[1] == 7\n",
    "    assert poses_N_x_7.shape[0] > 10\n",
    "    assert tss_us.shape[0] == poses_N_x_7.shape[0]\n",
    "\n",
    "    traj_evo = PoseTrajectory3D(\n",
    "        positions_xyz=poses_N_x_7[:,:3],\n",
    "        # orientations_quat_wxyz=poses_N_x_7[:,3:],\n",
    "        orientations_quat_wxyz = poses_N_x_7[:, [5,6,3,4]],#存储的是yzwx(由于原代码的bug导致的,注意统一代码输出为xyzw而evo中需要用的是wxyz即可)\n",
    "        timestamps=tss_us/1e6)#转换为秒\n",
    "    return traj_evo\n",
    "\n",
    "def load_gt_us(path, skiprows=0):\n",
    "    traj_ref = np.loadtxt(path, delimiter=\" \", skiprows=skiprows)\n",
    "    tss_gt_us = traj_ref[:, 0].copy() \n",
    "    assert np.all(tss_gt_us == sorted(tss_gt_us))\n",
    "    assert traj_ref.shape[0] > 0\n",
    "    assert traj_ref.shape[1] == 8\n",
    "\n",
    "    return tss_gt_us, traj_ref[:, 1:]\n",
    "\n",
    "def plot_trajectory_inxyplane(pred_traj, gt_traj, align=True, _n_to_align=-1,correct_scale=True, max_diff_sec=1.0,title=\"\", filename=\"\"):\n",
    "    #将两个轨迹对齐(时间维度上的)\n",
    "    gt_traj, pred_traj = sync.associate_trajectories(gt_traj, pred_traj, max_diff=max_diff_sec)\n",
    "\n",
    "    # 对齐轨迹(空间维度上的)\n",
    "    if align:\n",
    "        try:\n",
    "            pred_traj.align(gt_traj, correct_scale=correct_scale,n=_n_to_align)\n",
    "        except GeometryException as e:\n",
    "            print(\"Plotting error:\", e)\n",
    "\n",
    "    plot_collection = plot.PlotCollection(\"PlotCol\")\n",
    "\n",
    "    fig = plt.figure(figsize=(8, 8))\n",
    "    plot_mode = plot.PlotMode.xy\n",
    "    ax = plot.prepare_axis(fig, plot_mode)\n",
    "    ax.set_title(title)\n",
    "    if gt_traj is not None:\n",
    "        plot.traj(ax, plot_mode, gt_traj, '--', 'gray', \"Ground Truth\")\n",
    "    plot.traj(ax, plot_mode, pred_traj, '-', 'blue', \"Predicted\")\n",
    "    \n",
    "    plot_collection.add_figure(\"traj (error)\", fig)\n",
    "\n",
    "    plt.show()\n",
    "\n",
    "print(\"Successfully define several functions\")"
   ]
  },
  {
   "cell_type": "code",
   "execution_count": 5,
   "metadata": {},
   "outputs": [
    {
     "name": "stdout",
     "output_type": "stream",
     "text": [
      "Evaluation for DSEC dataset\n",
      "dsec_zurich_city_04_a: \n",
      "ATE[cm]: 82.46 | MPE[%/m]: 0.30\n",
      "dsec_zurich_city_04_b: \n",
      "ATE[cm]: 35.36 | MPE[%/m]: 0.41\n",
      "dsec_zurich_city_04_c: \n",
      "ATE[cm]: 413.83 | MPE[%/m]: 0.66\n"
     ]
    },
    {
     "name": "stdout",
     "output_type": "stream",
     "text": [
      "dsec_zurich_city_04_d: \n",
      "ATE[cm]: 207.63 | MPE[%/m]: 0.36\n",
      "dsec_zurich_city_04_e: \n",
      "ATE[cm]: 86.07 | MPE[%/m]: 0.37\n"
     ]
    }
   ],
   "source": [
    "print(\"Evaluation for DSEC dataset\")\n",
    "indir=\"/media/lfl-data2/DSEC/\" # your dataset path\n",
    "cur_dir=os.getcwd() #current file directoin\n",
    "\n",
    "target_dirs = {\n",
    "                \"dsec_zurich_city_04_a\",\n",
    "                \"dsec_zurich_city_04_b\",\n",
    "                \"dsec_zurich_city_04_c\",\n",
    "                \"dsec_zurich_city_04_d\",\n",
    "                \"dsec_zurich_city_04_e\",\n",
    "                }\n",
    "\n",
    "for root, dirs, files in os.walk(indir):\n",
    "    for d in dirs:\n",
    "        # 构建完整路径 data_path\n",
    "        datapath_val = os.path.join(root, d)\n",
    "\n",
    "        # 检查是否为目标文件夹之一\n",
    "        if os.path.basename(datapath_val) in target_dirs:\n",
    "            sequence_name = os.path.basename(datapath_val)\n",
    "\n",
    "            # 获取轨迹\n",
    "            tss_traj_s, traj_gt = load_gt_us(os.path.join(datapath_val, \"trajectory\",\"stamped_groundtruth2.txt\"))#获取真实轨迹\n",
    "            tss_gt_us=tss_traj_s * 1e6#转换为微秒\n",
    "\n",
    "            # 获取deio估算的轨迹\n",
    "            if sequence_name == \"dsec_zurich_city_04_a\":\n",
    "                tss_deio_us, traj_deio = load_gt_us(os.path.join(cur_dir, \"./DSEC/2024-10-17_dsec_zurich_city_04_a/Dsec_Zurich_City_04_A_Trial01.txt\"))\n",
    "            elif sequence_name == \"dsec_zurich_city_04_b\":\n",
    "                tss_deio_us, traj_deio = load_gt_us(os.path.join(cur_dir, \"./DSEC/2024-10-16_dsec_zurich_city_04_b/Dsec_Zurich_City_04_B_Trial01.txt\"))\n",
    "            elif sequence_name == \"dsec_zurich_city_04_c\":\n",
    "                tss_deio_us, traj_deio = load_gt_us(os.path.join(cur_dir, \"./DSEC/2024-10-16_dsec_zurich_city_04_c/Dsec_Zurich_City_04_C_Trial01.txt\"))\n",
    "            elif sequence_name == \"dsec_zurich_city_04_d\":\n",
    "                tss_deio_us, traj_deio = load_gt_us(os.path.join(cur_dir, \"./DSEC/2024-10-16_dsec_zurich_city_04_d/Dsec_Zurich_City_04_D_Trial01.txt\"))\n",
    "            elif sequence_name == \"dsec_zurich_city_04_e\":\n",
    "                tss_deio_us, traj_deio = load_gt_us(os.path.join(cur_dir, \"./DSEC/2024-10-16_dsec_zurich_city_04_e/Dsec_Zurich_City_04_E_Trial01.txt\"))      \n",
    "\n",
    "            evoGT = make_evo_traj_gt(traj_gt, tss_gt_us)\n",
    "            evoEst = make_evo_traj_deio(traj_deio, tss_deio_us)\n",
    "            gtlentraj = evoGT.get_infos()[\"path length (m)\"]#获取轨迹长度\n",
    "            evoGT, evoEst = sync.associate_trajectories(evoGT, evoEst, max_diff=1)\n",
    "            _n_to_align=-1;\n",
    "            ape_trans = main_ape.ape(copy.deepcopy(evoGT), copy.deepcopy(evoEst), pose_relation=metrics.PoseRelation.translation_part, align=True,n_to_align=_n_to_align, correct_scale=True)\n",
    "\n",
    "            # print(f\"\\033[31m EVO结果：{ape_trans}\\033[0m\");\n",
    "            MPE = ape_trans.stats[\"mean\"] / gtlentraj * 100\n",
    "            # print(f\"MPE is {MPE:.02f}\") #注意只保留两位小数\n",
    "            evoATE = ape_trans.stats[\"rmse\"]*100\n",
    "\n",
    "            res_str = f\"\\nATE[cm]: {evoATE:.02f} | MPE[%/m]: {MPE:.02f}\"\n",
    "            \n",
    "            print(f\"{sequence_name}: {res_str}\")\n",
    "            \n",
    "    # 使用break限制os.walk只遍历indir的第一层\n",
    "    break"
   ]
  }
 ],
 "metadata": {
  "kernelspec": {
   "display_name": "DEIO",
   "language": "python",
   "name": "python3"
  },
  "language_info": {
   "codemirror_mode": {
    "name": "ipython",
    "version": 3
   },
   "file_extension": ".py",
   "mimetype": "text/x-python",
   "name": "python",
   "nbconvert_exporter": "python",
   "pygments_lexer": "ipython3",
   "version": "3.10.18"
  }
 },
 "nbformat": 4,
 "nbformat_minor": 2
}
